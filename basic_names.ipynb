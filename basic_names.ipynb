{
 "cells": [
  {
   "cell_type": "markdown",
   "id": "44cc838b",
   "metadata": {},
   "source": [
    "# Names in Python"
   ]
  },
  {
   "cell_type": "markdown",
   "id": "b6eb7d9b",
   "metadata": {},
   "source": [
    "## About this exercise\n",
    "\n",
    "This exercise is an edited version of an exercise from [the Berkeley data\n",
    "science\n",
    "course](https://github.com/data-8/data8assets/tree/gh-pages/materials/exercises/expressions/names/basic_names)\n",
    "with thanks.  If you make a new version of this original, please note that\n",
    "this exercise has a [CC-BY-NC\n",
    "license](http://creativecommons.org/licenses/by-nc/4.0/); remember to give\n",
    "attribution to the original authors from the repository above."
   ]
  },
  {
   "cell_type": "markdown",
   "id": "4725232d",
   "metadata": {},
   "source": [
    "## The OKpy system"
   ]
  },
  {
   "cell_type": "markdown",
   "id": "6e56dcac",
   "metadata": {},
   "source": [
    "This notebook uses the [OKpy](https://okpy.org) automatic testing system.  OKpy provides checks for you to test whether you have got the right input.  You'll see those checks further down the notebook, as you work.  They allow you see if you are on the right track.\n",
    "\n",
    "For now, just execute the cell below to get the stuff we need from the OKpy library.\n",
    "\n",
    "If you see errors like `name 'ok' is not defined` further down in this\n",
    "notebook, find this cell again, and execute it."
   ]
  },
  {
   "cell_type": "code",
   "execution_count": null,
   "id": "c0df35ae",
   "metadata": {},
   "outputs": [],
   "source": [
    "# Run this cell to set up the notebook, but please don't change it.\n",
    "# These lines load the tests.\n",
    "from client.api.notebook import Notebook\n",
    "ok = Notebook('basic_names.ok')\n",
    "import numpy as np"
   ]
  },
  {
   "cell_type": "markdown",
   "id": "ba0da7ab",
   "metadata": {},
   "source": [
    "If you got an error - see above for suggestions.\n",
    "\n",
    "If not, you are ready for question 1."
   ]
  },
  {
   "cell_type": "markdown",
   "id": "8a77b298",
   "metadata": {},
   "source": [
    "**Question 1.** Suppose you can't remember how many planets there are in our solar system.  Your TA, who went to school in the 1990s, says the answer is 9.  In the next cell, give the name `number_of_planets` to the number 9."
   ]
  },
  {
   "cell_type": "code",
   "execution_count": null,
   "id": "f3a1a7c3",
   "metadata": {},
   "outputs": [],
   "source": [
    "number_of_planets = ..."
   ]
  },
  {
   "cell_type": "markdown",
   "id": "9fa09365",
   "metadata": {},
   "source": [
    "Run the next cell to test your answer.  You should find that the test fails, and it provides a hint about what went wrong.  Fix your answer in the previous cell, following the hint, so that the test passes."
   ]
  },
  {
   "cell_type": "code",
   "execution_count": null,
   "id": "e1cc557b",
   "metadata": {},
   "outputs": [],
   "source": [
    "_ = ok.grade('q1')"
   ]
  },
  {
   "cell_type": "markdown",
   "id": "f918311a",
   "metadata": {},
   "source": [
    "**Question 2.** A famous fact in mathematics is that\n",
    "\n",
    "$$(1 + \\frac{1}{n})^{n}$$\n",
    "\n",
    "gets very close to the number $e$, which is roughly $2.718$, when $n$ is large.  Use this fact to compute an approximation to $e$, called `roughly_e`.  Your approximation should be correct to at least 5 decimal places."
   ]
  },
  {
   "cell_type": "code",
   "execution_count": null,
   "id": "5737b959",
   "metadata": {},
   "outputs": [],
   "source": [
    "roughly_e = ...\n",
    "roughly_e"
   ]
  },
  {
   "cell_type": "code",
   "execution_count": null,
   "id": "e6372792",
   "metadata": {},
   "outputs": [],
   "source": [
    "_ = ok.grade('q2')"
   ]
  },
  {
   "cell_type": "markdown",
   "id": "80c68615",
   "metadata": {},
   "source": [
    "**Question 3.** In the previous question, you might have noticed that you had to type in the value of $n$ twice when you tried different values (once as `1/n` and once as `**n`).  You might have even accidentally used 2 different values.\n",
    "\n",
    "Redo the code in the cell below, giving your estimate of $e$ the name\n",
    "`also_roughly_e`.  Instead of writing the value of $n$ twice, give it the name\n",
    "`n` in your Python code, and then use that name in your expression for\n",
    "`also_roughly_e`."
   ]
  },
  {
   "cell_type": "code",
   "execution_count": null,
   "id": "2036a630",
   "metadata": {},
   "outputs": [],
   "source": [
    "n = ...\n",
    "also_roughly_e = ...\n",
    "also_roughly_e"
   ]
  },
  {
   "cell_type": "code",
   "execution_count": null,
   "id": "9387dace",
   "metadata": {},
   "outputs": [],
   "source": [
    "_ = ok.grade('q3')"
   ]
  },
  {
   "cell_type": "code",
   "execution_count": null,
   "id": "302301f0",
   "metadata": {},
   "outputs": [],
   "source": [
    "# For your convenience, you can run this cell to run all the tests at once!\n",
    "import os\n",
    "_ = [ok.grade(q[:-3]) for q in os.listdir(\"tests\") if q.startswith('q')]"
   ]
  },
  {
   "cell_type": "markdown",
   "id": "bdeff17c",
   "metadata": {},
   "source": [
    "## Notes\n",
    "\n",
    "From [the Berkeley course materials](https://github.com/data-8/data8assets) with thanks."
   ]
  }
 ],
 "metadata": {
  "jupytext": {
   "notebook_metadata_filter": "language_info",
   "text_representation": {
    "extension": ".Rmd",
    "format_name": "rmarkdown",
    "format_version": "1.2",
    "jupytext_version": "1.14.0"
   }
  },
  "kernelspec": {
   "display_name": "Python 3 (ipykernel)",
   "language": "python",
   "name": "python3"
  },
  "language_info": {
   "codemirror_mode": {
    "name": "ipython",
    "version": 3
   },
   "file_extension": ".py",
   "mimetype": "text/x-python",
   "name": "python",
   "nbconvert_exporter": "python",
   "pygments_lexer": "ipython3",
   "version": "3.10.4"
  }
 },
 "nbformat": 4,
 "nbformat_minor": 5
}
